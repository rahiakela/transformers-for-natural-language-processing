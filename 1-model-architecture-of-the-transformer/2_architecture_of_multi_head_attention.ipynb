{
  "nbformat": 4,
  "nbformat_minor": 0,
  "metadata": {
    "colab": {
      "name": "2-architecture-of-multi-head-attention.ipynb",
      "provenance": [],
      "toc_visible": true,
      "authorship_tag": "ABX9TyOHUUDb82/rvSjd7TUIZwjP",
      "include_colab_link": true
    },
    "kernelspec": {
      "name": "python3",
      "display_name": "Python 3"
    },
    "accelerator": "GPU"
  },
  "cells": [
    {
      "cell_type": "markdown",
      "metadata": {
        "id": "view-in-github",
        "colab_type": "text"
      },
      "source": [
        "<a href=\"https://colab.research.google.com/github/rahiakela/transformers-for-natural-language-processing/blob/main/1-model-architecture-of-the-transformer/2_architecture_of_multi_head_attention.ipynb\" target=\"_parent\"><img src=\"https://colab.research.google.com/assets/colab-badge.svg\" alt=\"Open In Colab\"/></a>"
      ]
    },
    {
      "cell_type": "markdown",
      "metadata": {
        "id": "E79jgpLzW5Wz"
      },
      "source": [
        "## The architecture of multi-head attention"
      ]
    },
    {
      "cell_type": "markdown",
      "metadata": {
        "id": "Hvi8cwmPW6dv"
      },
      "source": [
        "**The multi-head attention sub-layer contains eight heads and is followed by postlayer normalization, which will add residual connections to the output of the sublayer and normalize it.**\r\n",
        "\r\n",
        "<img src='https://github.com/rahiakela/img-repo/blob/master/transformers-for-natural-language-processing/sub-layer-1.png?raw=1' width='800'/>\r\n",
        "\r\n",
        "The input of the multi-attention sub-layer of the first layer of the encoder stack is a vector that contains the embedding and the positional encoding of each word. The next layers of the stack do not start these operations over.\r\n",
        "\r\n",
        "The dimension of the vector of each word $x_n$ of an input sequence is $d_{model} = 512$:\r\n",
        "\r\n",
        "$$\r\n",
        "pe(x_n) = [d_1=9.09297407e-01, d_2=9.09297407e-01, .., d_{512}=1.00000000e+00]\r\n",
        "$$\r\n",
        "\r\n",
        "The representation of each word $x_n$ has become a vector of $d_{model} = 512$ dimensions.\r\n",
        "\r\n",
        "**Each word is mapped to all the other words to determine how it fits in a sequence.**\r\n",
        "\r\n",
        "In the following sentence, we can see that \"it\" could be related to \"cat\" and \"rug\" in the sequence:\r\n",
        "\r\n",
        "```\r\n",
        "Sequence =The cat sat on the rug and it was dry-cleaned.\r\n",
        "```\r\n",
        "\r\n",
        "**The model will train to find out if \"it\" is related to \"cat\" or \"rug.\"** We could run a huge calculation by training the model using the $d_{model} = 512$ dimensions as they are now.\r\n",
        "\r\n",
        "However, we would only get one point of view at a time by analyzing the sequence\r\n",
        "with one $d_{model}$ block. Furthermore, it would take quite some calculation time to find other perspectives.\r\n",
        "\r\n",
        "**A better way is to divide the $d_{model} = 512$ dimensions of each word $x_n$ of $x$ (all of the words of a sequence) into $8 d_k = 64$ dimensions.**\r\n",
        "\r\n",
        "**We then can run the 8 \"heads\" in parallel to speed up the training and obtain 8 different representation subspaces of how each word relates to another:**\r\n",
        "\r\n",
        "<img src='https://github.com/rahiakela/img-repo/blob/master/transformers-for-natural-language-processing/multi-head-representations.png?raw=1' width='800'/>\r\n",
        "\r\n",
        "**You can see that there are now 8 heads running in parallel.** One head might decide that \"it\" fits well with \"cat\" and another that \"it\" fits well with \"rug\" and another that \"rug\" fits well with \"dry-cleaned.\"\r\n",
        "\r\n",
        "The output of each head is a matrix $z_i$ with a shape of $x^*d_k$ The output of a multiattention head is $Z$ defined as:\r\n",
        "\r\n",
        "$$ Z = (z_0, z_1, z_2, z_3, z_4, z_5, z_6, z_7,) $$\r\n",
        "\r\n",
        "**However, $Z$ must be concatenated so that the output of the multi-head sub-layer is not a sequence of dimensions but one lines of $xm*d_{model}$ matrix.**\r\n",
        "\r\n",
        "Before exiting the multi-head attention sub-layer, the elements of $Z$ are concatenated:\r\n",
        "\r\n",
        "$$ MultiHead(output) = Concat(z_0, z_1, z_2, z_3, z_4, z_5, z_6, z_7,) = x, d_{model} $$\r\n",
        "\r\n",
        "**Notice that each head is concatenated into $z$ that has a dimension of $d_{model} = 512$. The output of the multi-headed layer respects the constraint of the original Transformer model.**\r\n",
        "\r\n",
        "Inside each head $h_n$ of the attention mechanism, each word vector has three\r\n",
        "representations:\r\n",
        "\r\n",
        "- A query vector $(Q)$ that has a dimension of $d_q = 64$, which is activated and trained when a word vector $x_n$ seeks all of the key-value pairs of the other word vectors, including itself in self-attention\r\n",
        "- A key vector $(K)$ that has a dimension of $d_k = 64$, which will be trained to provide an attention value\r\n",
        "- A value vector $(V)$ that has a dimension of $d_v = 64$, which will be trained to provide another attention value\r\n",
        "\r\n",
        "\r\n",
        "Attention is defined as **Scaled Dot-Product Attention** which is represented in the following equation in which we plug $Q$, $K$ and $V$:\r\n",
        "\r\n",
        "$$\r\n",
        "Attention(Q,K,V) = softmax \\begin{pmatrix} \\frac{QK^T}{\\sqrt{d_k}} \\end{pmatrix} V\r\n",
        "$$\r\n",
        "\r\n",
        "**The vectors all have the same dimension making it relatively simple to use a scaled dot product to obtain the attention values for each head and then concatenate the output Z of the 8 heads.**\r\n",
        "\r\n",
        "To obtain $Q$, $K$, and $V$, we must train the model with their respective weight matrices $Q_w, K_w$ and $V_w$, which have $d_k = 64$ columns and $d_{model} = 512$ rows. For example, $Q$ is obtained by a dot-product between $x$ and $Q_w. Q$ will have a dimension of $d_k = 64$.\r\n",
        "\r\n",
        "Hugging Face and Google Brain Trax, among others, provide ready-to-use\r\n",
        "frameworks, libraries, and modules. However, let's open the hood of the Transformer model and get our hands dirty in Python to illustrate the architecture we just explored in order to visualize the model in code and show it with intermediate images.\r\n",
        "\r\n",
        "We will use basic Python code with only numpy and a softmax function in 10 steps to run the key aspects of the attention mechanism.\r\n",
        "\r\n",
        "We will start by only using minimal Python functions to understand the Transformer at a low level with the inner workings of an attention head. We will explore the inner workings of the multi-head attention sub-layer using basic code.\r\n",
        "\r\n",
        "\r\n",
        "\r\n",
        "\r\n",
        "\r\n"
      ]
    },
    {
      "cell_type": "markdown",
      "metadata": {
        "id": "4iVVwA51jLqZ"
      },
      "source": [
        "## Setup"
      ]
    },
    {
      "cell_type": "code",
      "metadata": {
        "id": "vHMoJEBzlHFp"
      },
      "source": [
        "# Transformer Installation\r\n",
        "!pip -qq install transformers"
      ],
      "execution_count": null,
      "outputs": []
    },
    {
      "cell_type": "code",
      "metadata": {
        "id": "p0d0E3GGjNez"
      },
      "source": [
        "import numpy as np\r\n",
        "from scipy.special import softmax\r\n",
        "from transformers import pipeline"
      ],
      "execution_count": 2,
      "outputs": []
    },
    {
      "cell_type": "markdown",
      "metadata": {
        "id": "NeoNwYO8nGNX"
      },
      "source": [
        "## Step 1: Represent the input"
      ]
    },
    {
      "cell_type": "markdown",
      "metadata": {
        "id": "Zxx2MKwhnHSF"
      },
      "source": [
        "The input of the attention mechanism we are building is scaled down to $d_{model} = 4$ instead of $d_{model} = 512$. This brings the dimensions of the vector of an input $x$ down to $d_{model} = 4$, which is easier to visualize.\r\n",
        "\r\n",
        "x contains 3 inputs with 4 dimensions each instead of 512:\r\n",
        "\r\n"
      ]
    },
    {
      "cell_type": "code",
      "metadata": {
        "id": "XseTj4OcmFv5",
        "outputId": "6fe5b514-dd4e-4b57-e628-1f0a24874bdd",
        "colab": {
          "base_uri": "https://localhost:8080/"
        }
      },
      "source": [
        "print(\"Step 1: Input : 3 inputs, d_model=4\")\r\n",
        "\r\n",
        "x = np.array([\r\n",
        "    [1.0, 0.0, 1.0, 0.0],     # Input 1 \r\n",
        "    [0.0, 2.0, 0.0, 2.0],     # Input 2 \r\n",
        "    [1.0, 1.0, 1.0, 1.0],     # Input 3          \r\n",
        "])\r\n",
        "print(x.shape)  # (3x4)\r\n",
        "print(x)"
      ],
      "execution_count": 3,
      "outputs": [
        {
          "output_type": "stream",
          "text": [
            "Step 1: Input : 3 inputs, d_model=4\n",
            "(3, 4)\n",
            "[[1. 0. 1. 0.]\n",
            " [0. 2. 0. 2.]\n",
            " [1. 1. 1. 1.]]\n"
          ],
          "name": "stdout"
        }
      ]
    },
    {
      "cell_type": "markdown",
      "metadata": {
        "id": "F6o1dY6DmysT"
      },
      "source": [
        "The first step of our model is ready:\r\n",
        "\r\n",
        "<img src='https://github.com/rahiakela/img-repo/blob/master/transformers-for-natural-language-processing/multi-head-input.png?raw=1' width='800'/>"
      ]
    },
    {
      "cell_type": "markdown",
      "metadata": {
        "id": "1Ej_Q-j0ncv9"
      },
      "source": [
        "## Step 2: Initializing the weight matrices"
      ]
    },
    {
      "cell_type": "markdown",
      "metadata": {
        "id": "kcKfdDPPndnj"
      },
      "source": [
        "We will now add the weight matrices to our model.\r\n",
        "\r\n",
        "Each input has 3 weight matrices:\r\n",
        "\r\n",
        "- $Q_w$ to train the queries\r\n",
        "- $K_w$ to train the keys\r\n",
        "- $V_w$ to train the values\r\n",
        "\r\n",
        "**These 3 weight matrices will be applied to all the inputs in this model.**\r\n",
        "\r\n",
        "The weight matrices described by **Vaswani** are $d_k = 64$ dimensions.\r\n",
        "\r\n",
        "However, let's scale the matrices down to $d_k = 3$. The dimensions are scaled down to 3*4 weight matrices to be able to visualize the intermediate results more easily and perform dot products with the input $x$.\r\n",
        "\r\n",
        "The three weight matrices are initialized starting with the query weight matrix:"
      ]
    },
    {
      "cell_type": "code",
      "metadata": {
        "id": "X1LL_v0mmqw5",
        "outputId": "c778b6e4-5728-4bbc-90bf-71f27d6131be",
        "colab": {
          "base_uri": "https://localhost:8080/"
        }
      },
      "source": [
        "print(\"Step 2: weights 3 dimensions x d_model=4\")\r\n",
        "print(\"query weight matrix\")\r\n",
        "\r\n",
        "w_query = np.array([\r\n",
        "    [1, 0, 1],\r\n",
        "    [1, 0, 0],\r\n",
        "    [0, 0, 1],\r\n",
        "    [0, 1, 1]                \r\n",
        "])\r\n",
        "print(w_query.shape)  # (4x3)\r\n",
        "print(w_query)"
      ],
      "execution_count": 5,
      "outputs": [
        {
          "output_type": "stream",
          "text": [
            "Step 2: weights 3 dimensions x d_model=4\n",
            "query weight matrix\n",
            "(4, 3)\n",
            "[[1 0 1]\n",
            " [1 0 0]\n",
            " [0 0 1]\n",
            " [0 1 1]]\n"
          ],
          "name": "stdout"
        }
      ]
    },
    {
      "cell_type": "markdown",
      "metadata": {
        "id": "tyRZAGAlrZmD"
      },
      "source": [
        "We will now initialize the key weight matrix:"
      ]
    },
    {
      "cell_type": "code",
      "metadata": {
        "id": "Jv_GL8KSrBQB",
        "outputId": "2a7888a0-8472-4ebd-fa2a-e89a2e6b66dd",
        "colab": {
          "base_uri": "https://localhost:8080/"
        }
      },
      "source": [
        "print(\"key weight matrix\")\r\n",
        "\r\n",
        "w_key = np.array([\r\n",
        "    [1, 0, 1],\r\n",
        "    [1, 1, 0],\r\n",
        "    [0, 1, 0],\r\n",
        "    [1, 1, 0]                \r\n",
        "])\r\n",
        "print(w_key.shape)  # (4x3)\r\n",
        "print(w_key)"
      ],
      "execution_count": 6,
      "outputs": [
        {
          "output_type": "stream",
          "text": [
            "key weight matrix\n",
            "(4, 3)\n",
            "[[1 0 1]\n",
            " [1 1 0]\n",
            " [0 1 0]\n",
            " [1 1 0]]\n"
          ],
          "name": "stdout"
        }
      ]
    },
    {
      "cell_type": "markdown",
      "metadata": {
        "id": "luC13v1trtyJ"
      },
      "source": [
        "Finally, we initialize the value weight matrix:"
      ]
    },
    {
      "cell_type": "code",
      "metadata": {
        "id": "6LQemL5FruLb",
        "outputId": "c83cd8de-5c1a-49fc-ddc7-6187663561e4",
        "colab": {
          "base_uri": "https://localhost:8080/"
        }
      },
      "source": [
        "print(\"value weight matrix\")\r\n",
        "\r\n",
        "w_value = np.array([\r\n",
        "    [0, 2, 0],\r\n",
        "    [0, 3, 0],\r\n",
        "    [1, 0, 3],\r\n",
        "    [1, 1, 0]                \r\n",
        "])\r\n",
        "print(w_value.shape)  # (4x3)\r\n",
        "print(w_value)"
      ],
      "execution_count": 7,
      "outputs": [
        {
          "output_type": "stream",
          "text": [
            "value weight matrix\n",
            "(4, 3)\n",
            "[[0 2 0]\n",
            " [0 3 0]\n",
            " [1 0 3]\n",
            " [1 1 0]]\n"
          ],
          "name": "stdout"
        }
      ]
    },
    {
      "cell_type": "markdown",
      "metadata": {
        "id": "TCZ8igfcsE0E"
      },
      "source": [
        "The second step of our model is ready:\r\n",
        "\r\n",
        "<img src='https://github.com/rahiakela/img-repo/blob/master/transformers-for-natural-language-processing/multi-head-weight-matrices.png?raw=1' width='800'/>"
      ]
    },
    {
      "cell_type": "markdown",
      "metadata": {
        "id": "jlvNNjGesdTb"
      },
      "source": [
        "## Step 3: Matrix multiplication to obtain Q, K, V"
      ]
    },
    {
      "cell_type": "markdown",
      "metadata": {
        "id": "ONma6Hy8seNM"
      },
      "source": [
        "We will now multiply the input vectors by the weight matrices to obtain a query,\r\n",
        "key, and value vector for each input.\r\n",
        "\r\n",
        "In this model, we will assume that there is one w_query, w_key, and w_value weight matrix for all inputs.\r\n",
        "\r\n",
        "Let's first multiply the input vectors by the w_query weight matrix:\r\n",
        "\r\n"
      ]
    },
    {
      "cell_type": "code",
      "metadata": {
        "id": "L4Tq19tzs-pn",
        "outputId": "419de572-8ea9-4ff1-baec-c60ce9a8e08e",
        "colab": {
          "base_uri": "https://localhost:8080/"
        }
      },
      "source": [
        "print(\"Step 3: Matrix multiplication to obtain Q,K,V\")\r\n",
        "\r\n",
        "print(\"Query: x * w_query\")\r\n",
        "Q = np.matmul(x, w_query)\r\n",
        "print(Q.shape)   # (3x4)(4x3) = (3x3)\r\n",
        "print(Q)"
      ],
      "execution_count": 8,
      "outputs": [
        {
          "output_type": "stream",
          "text": [
            "Step 3: Matrix multiplication to obtain Q,K,V\n",
            "Query: x * w_query\n",
            "(3, 3)\n",
            "[[1. 0. 2.]\n",
            " [2. 2. 2.]\n",
            " [2. 1. 3.]]\n"
          ],
          "name": "stdout"
        }
      ]
    },
    {
      "cell_type": "markdown",
      "metadata": {
        "id": "DiRSHLXlthys"
      },
      "source": [
        "We now multiply the input vectors by the w_key weight matrix:"
      ]
    },
    {
      "cell_type": "code",
      "metadata": {
        "id": "Vq_hDOOdtUsk",
        "outputId": "2788d7ed-fe8e-4cba-eaff-3ad5b020feaa",
        "colab": {
          "base_uri": "https://localhost:8080/"
        }
      },
      "source": [
        "print(\"Key: x * w_key\")\r\n",
        "K = np.matmul(x, w_key)\r\n",
        "print(K.shape)   # (3x4)(4x3) = (3x3)\r\n",
        "print(K)"
      ],
      "execution_count": 9,
      "outputs": [
        {
          "output_type": "stream",
          "text": [
            "Key: x * w_key\n",
            "(3, 3)\n",
            "[[1. 1. 1.]\n",
            " [4. 4. 0.]\n",
            " [3. 3. 1.]]\n"
          ],
          "name": "stdout"
        }
      ]
    },
    {
      "cell_type": "markdown",
      "metadata": {
        "id": "mZS9Wwz4t03p"
      },
      "source": [
        "Finally, we multiply the input vectors by the w_value weight matrix:"
      ]
    },
    {
      "cell_type": "code",
      "metadata": {
        "id": "ZPgwLn_nttbY",
        "outputId": "6778d263-c7a7-4799-81ca-7a82791184a7",
        "colab": {
          "base_uri": "https://localhost:8080/"
        }
      },
      "source": [
        "print(\"Value: x * w_value\")\r\n",
        "V = np.matmul(x, w_value)\r\n",
        "print(V.shape)   # (3x4)(4x3) = (3x3)\r\n",
        "print(V)"
      ],
      "execution_count": 10,
      "outputs": [
        {
          "output_type": "stream",
          "text": [
            "Value: x * w_value\n",
            "(3, 3)\n",
            "[[1. 2. 3.]\n",
            " [2. 8. 0.]\n",
            " [2. 6. 3.]]\n"
          ],
          "name": "stdout"
        }
      ]
    },
    {
      "cell_type": "markdown",
      "metadata": {
        "id": "5bPBc2aLuCLA"
      },
      "source": [
        "The third step of our model is ready:\r\n",
        "\r\n",
        "<img src='https://github.com/rahiakela/img-repo/blob/master/transformers-for-natural-language-processing/k-q-v.png?raw=1' width='800'/>\r\n",
        "\r\n",
        "We have the Q, K, and V values we need to calculate the attention scores."
      ]
    },
    {
      "cell_type": "markdown",
      "metadata": {
        "id": "IOtk5wKnvSNM"
      },
      "source": [
        "## Step 4: Scaled attention scores"
      ]
    },
    {
      "cell_type": "markdown",
      "metadata": {
        "id": "HB8HYh5ivbM6"
      },
      "source": [
        ""
      ]
    },
    {
      "cell_type": "code",
      "metadata": {
        "id": "iDWH4t4Kt8ge"
      },
      "source": [
        ""
      ],
      "execution_count": null,
      "outputs": []
    }
  ]
}